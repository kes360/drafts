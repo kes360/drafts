{
 "cells": [
  {
   "cell_type": "code",
   "execution_count": 1,
   "id": "f1156622",
   "metadata": {
    "scrolled": false
   },
   "outputs": [
    {
     "name": "stdout",
     "output_type": "stream",
     "text": [
      "Requirement already satisfied: google-api-python-client in c:\\users\\sinusas\\anaconda3\\lib\\site-packages (2.73.0)\n",
      "Requirement already satisfied: google-auth-httplib2 in c:\\users\\sinusas\\anaconda3\\lib\\site-packages (0.1.0)\n",
      "Requirement already satisfied: google-auth-oauthlib in c:\\users\\sinusas\\anaconda3\\lib\\site-packages (0.8.0)\n",
      "Requirement already satisfied: uritemplate<5,>=3.0.1 in c:\\users\\sinusas\\anaconda3\\lib\\site-packages (from google-api-python-client) (4.1.1)\n",
      "Requirement already satisfied: google-api-core!=2.0.*,!=2.1.*,!=2.2.*,!=2.3.0,<3.0.0dev,>=1.31.5 in c:\\users\\sinusas\\anaconda3\\lib\\site-packages (from google-api-python-client) (2.11.0)\n",
      "Requirement already satisfied: google-auth<3.0.0dev,>=1.19.0 in c:\\users\\sinusas\\anaconda3\\lib\\site-packages (from google-api-python-client) (2.16.0)\n",
      "Requirement already satisfied: httplib2<1dev,>=0.15.0 in c:\\users\\sinusas\\anaconda3\\lib\\site-packages (from google-api-python-client) (0.21.0)\n",
      "Requirement already satisfied: six in c:\\users\\sinusas\\anaconda3\\lib\\site-packages (from google-auth-httplib2) (1.16.0)\n",
      "Requirement already satisfied: requests-oauthlib>=0.7.0 in c:\\users\\sinusas\\anaconda3\\lib\\site-packages (from google-auth-oauthlib) (1.3.1)\n",
      "Requirement already satisfied: protobuf!=3.20.0,!=3.20.1,!=4.21.0,!=4.21.1,!=4.21.2,!=4.21.3,!=4.21.4,!=4.21.5,<5.0.0dev,>=3.19.5 in c:\\users\\sinusas\\anaconda3\\lib\\site-packages (from google-api-core!=2.0.*,!=2.1.*,!=2.2.*,!=2.3.0,<3.0.0dev,>=1.31.5->google-api-python-client) (4.21.12)\n",
      "Requirement already satisfied: requests<3.0.0dev,>=2.18.0 in c:\\users\\sinusas\\anaconda3\\lib\\site-packages (from google-api-core!=2.0.*,!=2.1.*,!=2.2.*,!=2.3.0,<3.0.0dev,>=1.31.5->google-api-python-client) (2.27.1)\n",
      "Requirement already satisfied: googleapis-common-protos<2.0dev,>=1.56.2 in c:\\users\\sinusas\\anaconda3\\lib\\site-packages (from google-api-core!=2.0.*,!=2.1.*,!=2.2.*,!=2.3.0,<3.0.0dev,>=1.31.5->google-api-python-client) (1.58.0)\n",
      "Requirement already satisfied: cachetools<6.0,>=2.0.0 in c:\\users\\sinusas\\anaconda3\\lib\\site-packages (from google-auth<3.0.0dev,>=1.19.0->google-api-python-client) (4.2.2)\n",
      "Requirement already satisfied: rsa<5,>=3.1.4 in c:\\users\\sinusas\\anaconda3\\lib\\site-packages (from google-auth<3.0.0dev,>=1.19.0->google-api-python-client) (4.7.2)\n",
      "Requirement already satisfied: pyasn1-modules>=0.2.1 in c:\\users\\sinusas\\anaconda3\\lib\\site-packages (from google-auth<3.0.0dev,>=1.19.0->google-api-python-client) (0.2.8)\n",
      "Note: you may need to restart the kernel to use updated packages.\n",
      "Requirement already satisfied: pyparsing!=3.0.0,!=3.0.1,!=3.0.2,!=3.0.3,<4,>=2.4.2 in c:\\users\\sinusas\\anaconda3\\lib\\site-packages (from httplib2<1dev,>=0.15.0->google-api-python-client) (3.0.4)\n",
      "Requirement already satisfied: pyasn1<0.5.0,>=0.4.6 in c:\\users\\sinusas\\anaconda3\\lib\\site-packages (from pyasn1-modules>=0.2.1->google-auth<3.0.0dev,>=1.19.0->google-api-python-client) (0.4.8)\n",
      "Requirement already satisfied: urllib3<1.27,>=1.21.1 in c:\\users\\sinusas\\anaconda3\\lib\\site-packages (from requests<3.0.0dev,>=2.18.0->google-api-core!=2.0.*,!=2.1.*,!=2.2.*,!=2.3.0,<3.0.0dev,>=1.31.5->google-api-python-client) (1.26.9)\n",
      "Requirement already satisfied: certifi>=2017.4.17 in c:\\users\\sinusas\\anaconda3\\lib\\site-packages (from requests<3.0.0dev,>=2.18.0->google-api-core!=2.0.*,!=2.1.*,!=2.2.*,!=2.3.0,<3.0.0dev,>=1.31.5->google-api-python-client) (2021.10.8)\n",
      "Requirement already satisfied: idna<4,>=2.5 in c:\\users\\sinusas\\anaconda3\\lib\\site-packages (from requests<3.0.0dev,>=2.18.0->google-api-core!=2.0.*,!=2.1.*,!=2.2.*,!=2.3.0,<3.0.0dev,>=1.31.5->google-api-python-client) (3.3)\n",
      "Requirement already satisfied: charset-normalizer~=2.0.0 in c:\\users\\sinusas\\anaconda3\\lib\\site-packages (from requests<3.0.0dev,>=2.18.0->google-api-core!=2.0.*,!=2.1.*,!=2.2.*,!=2.3.0,<3.0.0dev,>=1.31.5->google-api-python-client) (2.0.4)\n",
      "Requirement already satisfied: oauthlib>=3.0.0 in c:\\users\\sinusas\\anaconda3\\lib\\site-packages (from requests-oauthlib>=0.7.0->google-auth-oauthlib) (3.2.2)\n"
     ]
    }
   ],
   "source": [
    "pip install --upgrade google-api-python-client google-auth-httplib2 google-auth-oauthlib"
   ]
  },
  {
   "cell_type": "code",
   "execution_count": 2,
   "id": "8739ac01",
   "metadata": {
    "scrolled": true
   },
   "outputs": [],
   "source": [
    "import os.path\n",
    "\n",
    "import google.auth\n",
    "from google.auth.transport.requests import Request\n",
    "from google.oauth2.credentials import Credentials\n",
    "from google_auth_oauthlib.flow import InstalledAppFlow\n",
    "from googleapiclient.discovery import build\n",
    "from googleapiclient.errors import HttpError"
   ]
  },
  {
   "cell_type": "code",
   "execution_count": 3,
   "id": "17e80cf7",
   "metadata": {},
   "outputs": [],
   "source": [
    "# If modifying these scopes, delete the file token.json.\n",
    "SCOPES = ['https://www.googleapis.com/auth/classroom.coursework.students', 'https://www.googleapis.com/auth/classroom.courses']"
   ]
  },
  {
   "cell_type": "code",
   "execution_count": 4,
   "id": "c4aa13bb",
   "metadata": {},
   "outputs": [
    {
     "data": {
      "text/plain": [
       "list"
      ]
     },
     "execution_count": 4,
     "metadata": {},
     "output_type": "execute_result"
    }
   ],
   "source": [
    "type(SCOPES)"
   ]
  },
  {
   "cell_type": "code",
   "execution_count": 6,
   "id": "be3fd039",
   "metadata": {},
   "outputs": [
    {
     "name": "stdout",
     "output_type": "stream",
     "text": [
      "Courses:\n",
      "New Media and Technologies for Social Change\n",
      "Example Class\n"
     ]
    }
   ],
   "source": [
    "\"\"\"\n",
    "Shows basic usage of the Classroom API.\n",
    "Prints the names of the first 10 courses the user has access to.\n",
    "\"\"\"\n",
    "creds = None\n",
    "# The file token.json stores the user's access and refresh tokens, and is\n",
    "# created automatically when the authorization flow completes for the first\n",
    "# time.\n",
    "if os.path.exists('token.json'):\n",
    "    creds = Credentials.from_authorized_user_file('token.json', SCOPES)\n",
    "# If there are no (valid) credentials available, let the user log in.\n",
    "if not creds or not creds.valid:\n",
    "    if creds and creds.expired and creds.refresh_token:\n",
    "        creds.refresh(Request())\n",
    "    else:\n",
    "        flow = InstalledAppFlow.from_client_secrets_file(\n",
    "            'credentials.json', SCOPES)\n",
    "        creds = flow.run_local_server(port=0)\n",
    "    # Save the credentials for the next run\n",
    "    with open('token.json', 'w') as token:\n",
    "        token.write(creds.to_json())\n",
    "\n",
    "try:\n",
    "    service = build('classroom', 'v1', credentials=creds)\n",
    "\n",
    "    # Call the Classroom API\n",
    "    results = service.courses().list(pageSize=10).execute()\n",
    "    courses = results.get('courses', [])\n",
    "\n",
    "    if not courses:\n",
    "        print('No courses found.')\n",
    "    # Prints the names of the first 10 courses.\n",
    "    else:\n",
    "        print('Courses:')\n",
    "        for course in courses:\n",
    "            print(course['name'])\n",
    "\n",
    "except HttpError as error:\n",
    "    print('An error occurred: %s' % error)"
   ]
  },
  {
   "cell_type": "code",
   "execution_count": 9,
   "id": "41eccd1d",
   "metadata": {},
   "outputs": [
    {
     "ename": "NameError",
     "evalue": "name 'course_id' is not defined",
     "output_type": "error",
     "traceback": [
      "\u001b[1;31m---------------------------------------------------------------------------\u001b[0m",
      "\u001b[1;31mNameError\u001b[0m                                 Traceback (most recent call last)",
      "Input \u001b[1;32mIn [9]\u001b[0m, in \u001b[0;36m<cell line: 10>\u001b[1;34m()\u001b[0m\n\u001b[0;32m     10\u001b[0m \u001b[38;5;28;01mtry\u001b[39;00m:\n\u001b[0;32m     11\u001b[0m     service \u001b[38;5;241m=\u001b[39m build(\u001b[38;5;124m'\u001b[39m\u001b[38;5;124mclassroom\u001b[39m\u001b[38;5;124m'\u001b[39m, \u001b[38;5;124m'\u001b[39m\u001b[38;5;124mv1\u001b[39m\u001b[38;5;124m'\u001b[39m, credentials\u001b[38;5;241m=\u001b[39mcreds)\n\u001b[1;32m---> 12\u001b[0m     course \u001b[38;5;241m=\u001b[39m service\u001b[38;5;241m.\u001b[39mcourses()\u001b[38;5;241m.\u001b[39mget(\u001b[38;5;28mid\u001b[39m\u001b[38;5;241m=\u001b[39m\u001b[43mcourse_id\u001b[49m)\u001b[38;5;241m.\u001b[39mexecute()\n\u001b[0;32m     13\u001b[0m     \u001b[38;5;28mprint\u001b[39m(\u001b[38;5;124mf\u001b[39m\u001b[38;5;124m\"\u001b[39m\u001b[38;5;124mCourse found : \u001b[39m\u001b[38;5;132;01m{\u001b[39;00mcourse\u001b[38;5;241m.\u001b[39mget(\u001b[38;5;124m'\u001b[39m\u001b[38;5;124mname\u001b[39m\u001b[38;5;124m'\u001b[39m)\u001b[38;5;132;01m}\u001b[39;00m\u001b[38;5;124m\"\u001b[39m)\n\u001b[0;32m     14\u001b[0m \u001b[38;5;28;01mexcept\u001b[39;00m HttpError \u001b[38;5;28;01mas\u001b[39;00m error:\n",
      "\u001b[1;31mNameError\u001b[0m: name 'course_id' is not defined"
     ]
    }
   ],
   "source": [
    "\"\"\"\n",
    "    Prints the name of the with specific course_id.\n",
    "    Load pre-authorized user credentials from the environment.\n",
    "    TODO(developer) - See https://developers.google.com/identity\n",
    "    for guides on implementing OAuth2 for the application.\n",
    "\"\"\"\n",
    "\n",
    "\n",
    "course = None\n",
    "try:\n",
    "    service = build('classroom', 'v1', credentials=creds)\n",
    "    course = service.courses().get(id=course_id).execute()\n",
    "    print(f\"Course found : {course.get('name')}\")\n",
    "except HttpError as error:\n",
    "    print(f\"An error occurred: {error}\")\n",
    "    print(f\"Course not found: {course_id}\")\n",
    "print(course)\n"
   ]
  },
  {
   "cell_type": "code",
   "execution_count": 10,
   "id": "c6d96511",
   "metadata": {},
   "outputs": [],
   "source": [
    "def classroom_list_courses():\n",
    "    \n",
    "    if os.path.exists('token.json'):\n",
    "        creds = Credentials.from_authorized_user_file('token.json', SCOPES)\n",
    "    # If there are no (valid) credentials available, let the user log in.\n",
    "    if not creds or not creds.valid:\n",
    "        if creds and creds.expired and creds.refresh_token:\n",
    "            creds.refresh(Request())\n",
    "        else:\n",
    "            flow = InstalledAppFlow.from_client_secrets_file(\n",
    "                'credentials.json', SCOPES)\n",
    "            creds = flow.run_local_server(port=0)\n",
    "        # Save the credentials for the next run\n",
    "        with open('token.json', 'w') as token:\n",
    "            token.write(creds.to_json())\n",
    "    \n",
    "    \n",
    "    try:\n",
    "        service = build('classroom', 'v1', credentials=creds)\n",
    "        courses = []\n",
    "        page_token = None\n",
    "\n",
    "        while True:\n",
    "            # pylint: disable=maybe-no-member\n",
    "            response = service.courses().list(pageToken=page_token,\n",
    "                                              pageSize=100).execute()\n",
    "            courses.extend(response.get('courses', []))\n",
    "            page_token = response.get('nextPageToken', None)\n",
    "            if not page_token:\n",
    "                break\n",
    "\n",
    "        if not courses:\n",
    "            print(\"No courses found.\")\n",
    "            return\n",
    "        print(\"Courses:\")\n",
    "        for course in courses:\n",
    "            print(f\"{course.get('name'), course.get('id')}\")\n",
    "        return courses\n",
    "    except HttpError as error:\n",
    "        print(f\"An error occurred: {error}\")\n",
    "        return error"
   ]
  },
  {
   "cell_type": "code",
   "execution_count": 11,
   "id": "bda2dfd6",
   "metadata": {
    "scrolled": true
   },
   "outputs": [
    {
     "name": "stdout",
     "output_type": "stream",
     "text": [
      "Courses available are-------\n",
      "Courses:\n",
      "('New Media and Technologies for Social Change', '541166635251')\n",
      "('Example Class', '569435746338')\n"
     ]
    },
    {
     "data": {
      "text/plain": [
       "[{'id': '541166635251',\n",
       "  'name': 'New Media and Technologies for Social Change',\n",
       "  'section': 'Period 1',\n",
       "  'descriptionHeading': 'New Media and Technologies for Social Change Period 1',\n",
       "  'room': '411',\n",
       "  'ownerId': '105900254649607976950',\n",
       "  'creationTime': '2023-01-09T18:31:29.359Z',\n",
       "  'updateTime': '2023-01-20T12:21:26.564Z',\n",
       "  'enrollmentCode': 'vyipmp3',\n",
       "  'courseState': 'ACTIVE',\n",
       "  'alternateLink': 'https://classroom.google.com/c/NTQxMTY2NjM1MjUx',\n",
       "  'teacherGroupEmail': 'New_Media_and_Technologies_for_Social_Change_Period_1_teachers_8b22b1ce@g.harvard.edu',\n",
       "  'courseGroupEmail': 'New_Media_and_Technologies_for_Social_Change_Period_1_d68fad57@g.harvard.edu',\n",
       "  'teacherFolder': {'id': '1Yo7_LjxbAmMfeD73rpV6xRvSQT5y0GdL74DiOnvnVB7LaMIMhICwhFyX8fYU0hJLyDU5fZoZ',\n",
       "   'title': 'New Media and Technologies for Social Change Period 1',\n",
       "   'alternateLink': 'https://drive.google.com/drive/folders/1Yo7_LjxbAmMfeD73rpV6xRvSQT5y0GdL74DiOnvnVB7LaMIMhICwhFyX8fYU0hJLyDU5fZoZ'},\n",
       "  'guardiansEnabled': False,\n",
       "  'calendarId': 'c_classroom4e872ff2@group.calendar.google.com',\n",
       "  'gradebookSettings': {'calculationType': 'TOTAL_POINTS',\n",
       "   'displaySetting': 'HIDE_OVERALL_GRADE'}},\n",
       " {'id': '569435746338',\n",
       "  'name': 'Example Class',\n",
       "  'section': 'Period 1',\n",
       "  'descriptionHeading': 'Example Class',\n",
       "  'description': 'This is the description of the class',\n",
       "  'room': 'Room 411',\n",
       "  'ownerId': '105900254649607976950',\n",
       "  'creationTime': '2022-11-10T11:55:06.968Z',\n",
       "  'updateTime': '2023-01-21T12:40:16.151Z',\n",
       "  'enrollmentCode': '6f24jau',\n",
       "  'courseState': 'ACTIVE',\n",
       "  'alternateLink': 'https://classroom.google.com/c/NTY5NDM1NzQ2MzM4',\n",
       "  'teacherGroupEmail': 'Example_Class_teachers_175cb216@g.harvard.edu',\n",
       "  'courseGroupEmail': 'Example_Class_6434c794@g.harvard.edu',\n",
       "  'teacherFolder': {'id': '1G8M2TTO12IXjHdIQ_skG_Suf4c_PIo-zkB7yLBV2wXtkWMg7SOgTTV-AuDHdq0378N2j-0xP',\n",
       "   'title': 'Example Class',\n",
       "   'alternateLink': 'https://drive.google.com/drive/folders/1G8M2TTO12IXjHdIQ_skG_Suf4c_PIo-zkB7yLBV2wXtkWMg7SOgTTV-AuDHdq0378N2j-0xP'},\n",
       "  'guardiansEnabled': False,\n",
       "  'calendarId': 'c_classroomd65a7475@group.calendar.google.com',\n",
       "  'gradebookSettings': {'calculationType': 'WEIGHTED_CATEGORIES',\n",
       "   'displaySetting': 'SHOW_OVERALL_GRADE',\n",
       "   'gradeCategories': [{'id': '569435364689',\n",
       "     'name': 'Practice',\n",
       "     'weight': 300000,\n",
       "     'defaultGradeDenominator': 100},\n",
       "    {'id': '569435364690',\n",
       "     'name': 'Mastery',\n",
       "     'weight': 350000,\n",
       "     'defaultGradeDenominator': 100},\n",
       "    {'id': '585158134794',\n",
       "     'name': 'Performance',\n",
       "     'weight': 350000,\n",
       "     'defaultGradeDenominator': 100}]}}]"
      ]
     },
     "execution_count": 11,
     "metadata": {},
     "output_type": "execute_result"
    }
   ],
   "source": [
    "print('Courses available are-------')\n",
    "classroom_list_courses()"
   ]
  },
  {
   "cell_type": "code",
   "execution_count": 20,
   "id": "372c13a4",
   "metadata": {},
   "outputs": [
    {
     "data": {
      "text/plain": [
       "list"
      ]
     },
     "execution_count": 20,
     "metadata": {},
     "output_type": "execute_result"
    }
   ],
   "source": [
    "type(courses)"
   ]
  },
  {
   "cell_type": "code",
   "execution_count": 21,
   "id": "7ac0fe9b",
   "metadata": {
    "scrolled": true
   },
   "outputs": [
    {
     "data": {
      "text/plain": [
       "dict"
      ]
     },
     "execution_count": 21,
     "metadata": {},
     "output_type": "execute_result"
    }
   ],
   "source": [
    "type(courses[0])"
   ]
  },
  {
   "cell_type": "code",
   "execution_count": 12,
   "id": "3371abcc",
   "metadata": {
    "scrolled": false
   },
   "outputs": [
    {
     "ename": "AttributeError",
     "evalue": "'dict' object has no attribute 'gradeCategories'",
     "output_type": "error",
     "traceback": [
      "\u001b[1;31m---------------------------------------------------------------------------\u001b[0m",
      "\u001b[1;31mAttributeError\u001b[0m                            Traceback (most recent call last)",
      "Input \u001b[1;32mIn [12]\u001b[0m, in \u001b[0;36m<cell line: 1>\u001b[1;34m()\u001b[0m\n\u001b[1;32m----> 1\u001b[0m \u001b[43mcourses\u001b[49m\u001b[43m[\u001b[49m\u001b[38;5;241;43m1\u001b[39;49m\u001b[43m]\u001b[49m\u001b[38;5;241;43m.\u001b[39;49m\u001b[43mgradeCategories\u001b[49m\n",
      "\u001b[1;31mAttributeError\u001b[0m: 'dict' object has no attribute 'gradeCategories'"
     ]
    }
   ],
   "source": [
    "courses[1].gradeCategories"
   ]
  },
  {
   "cell_type": "code",
   "execution_count": 13,
   "id": "d7ae6546",
   "metadata": {
    "scrolled": false
   },
   "outputs": [
    {
     "data": {
      "text/plain": [
       "{'calculationType': 'WEIGHTED_CATEGORIES',\n",
       " 'displaySetting': 'SHOW_OVERALL_GRADE',\n",
       " 'gradeCategories': [{'id': '569435364689',\n",
       "   'name': 'Practice',\n",
       "   'weight': 300000,\n",
       "   'defaultGradeDenominator': 100},\n",
       "  {'id': '569435364690',\n",
       "   'name': 'Mastery',\n",
       "   'weight': 350000,\n",
       "   'defaultGradeDenominator': 100},\n",
       "  {'id': '585158134794',\n",
       "   'name': 'Performance',\n",
       "   'weight': 350000,\n",
       "   'defaultGradeDenominator': 100}]}"
      ]
     },
     "execution_count": 13,
     "metadata": {},
     "output_type": "execute_result"
    }
   ],
   "source": [
    "courses[1]['gradebookSettings']"
   ]
  },
  {
   "cell_type": "code",
   "execution_count": 14,
   "id": "0a056ab5",
   "metadata": {
    "scrolled": false
   },
   "outputs": [
    {
     "data": {
      "text/plain": [
       "[{'id': '569435364689',\n",
       "  'name': 'Practice',\n",
       "  'weight': 300000,\n",
       "  'defaultGradeDenominator': 100},\n",
       " {'id': '569435364690',\n",
       "  'name': 'Mastery',\n",
       "  'weight': 350000,\n",
       "  'defaultGradeDenominator': 100},\n",
       " {'id': '585158134794',\n",
       "  'name': 'Performance',\n",
       "  'weight': 350000,\n",
       "  'defaultGradeDenominator': 100}]"
      ]
     },
     "execution_count": 14,
     "metadata": {},
     "output_type": "execute_result"
    }
   ],
   "source": [
    "courses[1]['gradebookSettings']['gradeCategories']"
   ]
  },
  {
   "cell_type": "code",
   "execution_count": 15,
   "id": "3c38307d",
   "metadata": {},
   "outputs": [],
   "source": [
    "import pandas as pd"
   ]
  },
  {
   "cell_type": "code",
   "execution_count": 16,
   "id": "e45b5194",
   "metadata": {},
   "outputs": [
    {
     "name": "stdout",
     "output_type": "stream",
     "text": [
      "pandas dataframe of course data:\n",
      "             id                                          name   section  \\\n",
      "0  541166635251  New Media and Technologies for Social Change  Period 1   \n",
      "1  569435746338                                 Example Class  Period 1   \n",
      "\n",
      "                                  descriptionHeading      room  \\\n",
      "0  New Media and Technologies for Social Change P...       411   \n",
      "1                                      Example Class  Room 411   \n",
      "\n",
      "                 ownerId              creationTime                updateTime  \\\n",
      "0  105900254649607976950  2023-01-09T18:31:29.359Z  2023-01-20T12:21:26.564Z   \n",
      "1  105900254649607976950  2022-11-10T11:55:06.968Z  2023-01-21T12:40:16.151Z   \n",
      "\n",
      "  enrollmentCode courseState                                    alternateLink  \\\n",
      "0        vyipmp3      ACTIVE  https://classroom.google.com/c/NTQxMTY2NjM1MjUx   \n",
      "1        6f24jau      ACTIVE  https://classroom.google.com/c/NTY5NDM1NzQ2MzM4   \n",
      "\n",
      "                                   teacherGroupEmail  \\\n",
      "0  New_Media_and_Technologies_for_Social_Change_P...   \n",
      "1      Example_Class_teachers_175cb216@g.harvard.edu   \n",
      "\n",
      "                                    courseGroupEmail  \\\n",
      "0  New_Media_and_Technologies_for_Social_Change_P...   \n",
      "1               Example_Class_6434c794@g.harvard.edu   \n",
      "\n",
      "                                       teacherFolder  guardiansEnabled  \\\n",
      "0  {'id': '1Yo7_LjxbAmMfeD73rpV6xRvSQT5y0GdL74DiO...             False   \n",
      "1  {'id': '1G8M2TTO12IXjHdIQ_skG_Suf4c_PIo-zkB7yL...             False   \n",
      "\n",
      "                                      calendarId  \\\n",
      "0  c_classroom4e872ff2@group.calendar.google.com   \n",
      "1  c_classroomd65a7475@group.calendar.google.com   \n",
      "\n",
      "                                   gradebookSettings  \\\n",
      "0  {'calculationType': 'TOTAL_POINTS', 'displaySe...   \n",
      "1  {'calculationType': 'WEIGHTED_CATEGORIES', 'di...   \n",
      "\n",
      "                            description  \n",
      "0                                   NaN  \n",
      "1  This is the description of the class  \n"
     ]
    }
   ],
   "source": [
    "df = pd.DataFrame(courses)\n",
    "print(\"pandas dataframe of course data:\")\n",
    "print(df)"
   ]
  },
  {
   "cell_type": "code",
   "execution_count": 17,
   "id": "65c179e4",
   "metadata": {},
   "outputs": [
    {
     "name": "stdout",
     "output_type": "stream",
     "text": [
      "Assignment created with ID 585160147710\n"
     ]
    },
    {
     "data": {
      "text/plain": [
       "{'courseId': '541166635251',\n",
       " 'id': '585160147710',\n",
       " 'title': 'Ant colonies',\n",
       " 'description': 'Read the article about ant colonies\\n                              and complete the quiz.',\n",
       " 'materials': [{'link': {'url': 'http://example.com/ant-colonies',\n",
       "    'title': 'Example Domain',\n",
       "    'thumbnailUrl': 'https://classroom.google.com/webthumbnail?url=http://example.com/ant-colonies'}},\n",
       "  {'link': {'url': 'http://example.com/ant-quiz',\n",
       "    'title': 'Example Domain',\n",
       "    'thumbnailUrl': 'https://classroom.google.com/webthumbnail?url=http://example.com/ant-quiz'}}],\n",
       " 'state': 'PUBLISHED',\n",
       " 'alternateLink': 'https://classroom.google.com/c/NTQxMTY2NjM1MjUx/a/NTg1MTYwMTQ3NzEw/details',\n",
       " 'creationTime': '2023-01-21T13:43:52.404Z',\n",
       " 'updateTime': '2023-01-21T13:43:52.242Z',\n",
       " 'workType': 'ASSIGNMENT',\n",
       " 'submissionModificationMode': 'MODIFIABLE_UNTIL_TURNED_IN',\n",
       " 'assignment': {'studentWorkFolder': {'id': '1DCHomlbUeVZWsfRImQ366uZ5tpOhhgW4EpP6Y5wCBE9AKXGJ2J9lEujzb6WY7cV06x5Hq2b0'}},\n",
       " 'associatedWithDeveloper': True,\n",
       " 'assigneeMode': 'ALL_STUDENTS',\n",
       " 'creatorUserId': '105900254649607976950'}"
      ]
     },
     "execution_count": 17,
     "metadata": {},
     "output_type": "execute_result"
    }
   ],
   "source": [
    "'''\n",
    "modified from official documentation: https://developers.google.com/classroom/guides/manage-coursework\n",
    "'''\n",
    "\n",
    "def classroom_create_coursework(course_id):\n",
    "\n",
    "    \"\"\"\n",
    "    Creates the coursework the user has access to.\n",
    "    Load pre-authorized user credentials from the environment.\n",
    "    TODO(developer) - See https://developers.google.com/identity\n",
    "    for guides on implementing OAuth2 for the application.\n",
    "    \"\"\"\n",
    "\n",
    "    # commenting out this credential code as it doesn't work\n",
    "    # creds, _ = google.auth.default()\n",
    "    \n",
    "    #using this earlier identified functional code instead\n",
    "    if os.path.exists('token.json'):\n",
    "        creds = Credentials.from_authorized_user_file('token.json', SCOPES)\n",
    "    # If there are no (valid) credentials available, let the user log in.\n",
    "    if not creds or not creds.valid:\n",
    "        if creds and creds.expired and creds.refresh_token:\n",
    "            creds.refresh(Request())\n",
    "        else:\n",
    "            flow = InstalledAppFlow.from_client_secrets_file(\n",
    "                'credentials2.json', SCOPES)\n",
    "            creds = flow.run_local_server(port=0)\n",
    "        # Save the credentials for the next run\n",
    "        with open('token.json', 'w') as token:\n",
    "            token.write(creds.to_json())\n",
    "\n",
    "            \n",
    "            \n",
    "    try:\n",
    "        service = build('classroom', 'v1', credentials=creds)\n",
    "        coursework = {\n",
    "            'title': 'Ant colonies',\n",
    "            'description': '''Read the article about ant colonies\n",
    "                              and complete the quiz.''',\n",
    "            'materials': [\n",
    "                {'link': {'url': 'http://example.com/ant-colonies'}},\n",
    "                {'link': {'url': 'http://example.com/ant-quiz'}}\n",
    "            ],\n",
    "            'workType': 'ASSIGNMENT',\n",
    "            'state': 'PUBLISHED',\n",
    "        }\n",
    "        coursework = service.courses().courseWork().create(\n",
    "            courseId=course_id, body=coursework).execute()\n",
    "        print(f\"Assignment created with ID {coursework.get('id')}\")\n",
    "        return coursework\n",
    "\n",
    "    except HttpError as error:\n",
    "        print(f\"An error occurred: {error}\")\n",
    "        return error\n",
    "\n",
    "classroom_create_coursework(541166635251)"
   ]
  },
  {
   "cell_type": "code",
   "execution_count": null,
   "id": "05ecbdaa",
   "metadata": {},
   "outputs": [],
   "source": [
    "'''\n",
    "Tried changing the scope to https://www.googleapis.com/auth/classroom.coursework.students\n",
    "based on this documentation: https://developers.google.com/classroom/reference/rest/v1/courses.courseWork/create#authorization-scopes\n",
    "\n",
    "following error was generated:\n",
    "[W 12:38:24.437 NotebookApp] Notebook Google Classroom API Testing.ipynb is not trusted\n",
    "\n",
    "'''"
   ]
  },
  {
   "cell_type": "code",
   "execution_count": null,
   "id": "6d617db5",
   "metadata": {},
   "outputs": [],
   "source": [
    "response = coursework.studentSubmissions().list(\n",
    "    courseId=course_id,\n",
    "    courseWorkId=coursework_id,\n",
    "    pageSize=10).execute()\n",
    "submissions.extend(response.get('studentSubmissions', []))\n",
    "\n",
    "if not submissions:\n",
    "    print('No student submissions found.')\n",
    "\n",
    "print('Student Submissions:')\n",
    "for submission in submissions:\n",
    "    print(f\"Submitted at:\"\n",
    "          f\"{(submission.get('userId'), submission.get('assignedGrade'))}\")"
   ]
  }
 ],
 "metadata": {
  "kernelspec": {
   "display_name": "Python 3 (ipykernel)",
   "language": "python",
   "name": "python3"
  },
  "language_info": {
   "codemirror_mode": {
    "name": "ipython",
    "version": 3
   },
   "file_extension": ".py",
   "mimetype": "text/x-python",
   "name": "python",
   "nbconvert_exporter": "python",
   "pygments_lexer": "ipython3",
   "version": "3.9.12"
  }
 },
 "nbformat": 4,
 "nbformat_minor": 5
}
