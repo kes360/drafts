{
 "cells": [
  {
   "cell_type": "code",
   "execution_count": 1,
   "id": "640edd48",
   "metadata": {
    "scrolled": false
   },
   "outputs": [
    {
     "name": "stdout",
     "output_type": "stream",
     "text": [
      "Requirement already satisfied: google-api-python-client in c:\\users\\sinusas\\anaconda3\\lib\\site-packages (2.71.0)Note: you may need to restart the kernel to use updated packages.\n",
      "Requirement already satisfied: google-auth-httplib2 in c:\\users\\sinusas\\anaconda3\\lib\\site-packages (0.1.0)\n",
      "Requirement already satisfied: google-auth-oauthlib in c:\\users\\sinusas\\anaconda3\\lib\\site-packages (0.8.0)\n",
      "\n",
      "Requirement already satisfied: uritemplate<5,>=3.0.1 in c:\\users\\sinusas\\anaconda3\\lib\\site-packages (from google-api-python-client) (4.1.1)\n",
      "Requirement already satisfied: google-auth<3.0.0dev,>=1.19.0 in c:\\users\\sinusas\\anaconda3\\lib\\site-packages (from google-api-python-client) (2.16.0)\n",
      "Requirement already satisfied: httplib2<1dev,>=0.15.0 in c:\\users\\sinusas\\anaconda3\\lib\\site-packages (from google-api-python-client) (0.21.0)\n",
      "Requirement already satisfied: google-api-core!=2.0.*,!=2.1.*,!=2.2.*,!=2.3.0,<3.0.0dev,>=1.31.5 in c:\\users\\sinusas\\anaconda3\\lib\\site-packages (from google-api-python-client) (2.11.0)\n",
      "Requirement already satisfied: six in c:\\users\\sinusas\\anaconda3\\lib\\site-packages (from google-auth-httplib2) (1.16.0)\n",
      "Requirement already satisfied: requests-oauthlib>=0.7.0 in c:\\users\\sinusas\\anaconda3\\lib\\site-packages (from google-auth-oauthlib) (1.3.1)\n",
      "Requirement already satisfied: requests<3.0.0dev,>=2.18.0 in c:\\users\\sinusas\\anaconda3\\lib\\site-packages (from google-api-core!=2.0.*,!=2.1.*,!=2.2.*,!=2.3.0,<3.0.0dev,>=1.31.5->google-api-python-client) (2.27.1)\n",
      "Requirement already satisfied: protobuf!=3.20.0,!=3.20.1,!=4.21.0,!=4.21.1,!=4.21.2,!=4.21.3,!=4.21.4,!=4.21.5,<5.0.0dev,>=3.19.5 in c:\\users\\sinusas\\anaconda3\\lib\\site-packages (from google-api-core!=2.0.*,!=2.1.*,!=2.2.*,!=2.3.0,<3.0.0dev,>=1.31.5->google-api-python-client) (4.21.12)\n",
      "Requirement already satisfied: googleapis-common-protos<2.0dev,>=1.56.2 in c:\\users\\sinusas\\anaconda3\\lib\\site-packages (from google-api-core!=2.0.*,!=2.1.*,!=2.2.*,!=2.3.0,<3.0.0dev,>=1.31.5->google-api-python-client) (1.58.0)\n",
      "Requirement already satisfied: pyasn1-modules>=0.2.1 in c:\\users\\sinusas\\anaconda3\\lib\\site-packages (from google-auth<3.0.0dev,>=1.19.0->google-api-python-client) (0.2.8)\n",
      "Requirement already satisfied: cachetools<6.0,>=2.0.0 in c:\\users\\sinusas\\anaconda3\\lib\\site-packages (from google-auth<3.0.0dev,>=1.19.0->google-api-python-client) (4.2.2)\n",
      "Requirement already satisfied: rsa<5,>=3.1.4 in c:\\users\\sinusas\\anaconda3\\lib\\site-packages (from google-auth<3.0.0dev,>=1.19.0->google-api-python-client) (4.7.2)\n",
      "Requirement already satisfied: pyparsing!=3.0.0,!=3.0.1,!=3.0.2,!=3.0.3,<4,>=2.4.2 in c:\\users\\sinusas\\anaconda3\\lib\\site-packages (from httplib2<1dev,>=0.15.0->google-api-python-client) (3.0.4)\n",
      "Requirement already satisfied: pyasn1<0.5.0,>=0.4.6 in c:\\users\\sinusas\\anaconda3\\lib\\site-packages (from pyasn1-modules>=0.2.1->google-auth<3.0.0dev,>=1.19.0->google-api-python-client) (0.4.8)\n",
      "Requirement already satisfied: certifi>=2017.4.17 in c:\\users\\sinusas\\anaconda3\\lib\\site-packages (from requests<3.0.0dev,>=2.18.0->google-api-core!=2.0.*,!=2.1.*,!=2.2.*,!=2.3.0,<3.0.0dev,>=1.31.5->google-api-python-client) (2021.10.8)\n",
      "Requirement already satisfied: charset-normalizer~=2.0.0 in c:\\users\\sinusas\\anaconda3\\lib\\site-packages (from requests<3.0.0dev,>=2.18.0->google-api-core!=2.0.*,!=2.1.*,!=2.2.*,!=2.3.0,<3.0.0dev,>=1.31.5->google-api-python-client) (2.0.4)\n",
      "Requirement already satisfied: urllib3<1.27,>=1.21.1 in c:\\users\\sinusas\\anaconda3\\lib\\site-packages (from requests<3.0.0dev,>=2.18.0->google-api-core!=2.0.*,!=2.1.*,!=2.2.*,!=2.3.0,<3.0.0dev,>=1.31.5->google-api-python-client) (1.26.9)\n",
      "Requirement already satisfied: idna<4,>=2.5 in c:\\users\\sinusas\\anaconda3\\lib\\site-packages (from requests<3.0.0dev,>=2.18.0->google-api-core!=2.0.*,!=2.1.*,!=2.2.*,!=2.3.0,<3.0.0dev,>=1.31.5->google-api-python-client) (3.3)\n",
      "Requirement already satisfied: oauthlib>=3.0.0 in c:\\users\\sinusas\\anaconda3\\lib\\site-packages (from requests-oauthlib>=0.7.0->google-auth-oauthlib) (3.2.2)\n"
     ]
    }
   ],
   "source": [
    "pip install --upgrade google-api-python-client google-auth-httplib2 google-auth-oauthlib"
   ]
  },
  {
   "cell_type": "code",
   "execution_count": 7,
   "id": "c8cb54b1",
   "metadata": {
    "scrolled": true
   },
   "outputs": [],
   "source": [
    "import os.path\n",
    "\n",
    "import google.auth\n",
    "from google.auth.transport.requests import Request\n",
    "from google.oauth2.credentials import Credentials\n",
    "from google_auth_oauthlib.flow import InstalledAppFlow\n",
    "from googleapiclient.discovery import build\n",
    "from googleapiclient.errors import HttpError"
   ]
  },
  {
   "cell_type": "code",
   "execution_count": 3,
   "id": "c4982c9c",
   "metadata": {},
   "outputs": [],
   "source": [
    "# If modifying these scopes, delete the file token.json.\n",
    "SCOPES = ['https://www.googleapis.com/auth/classroom.courses.readonly']"
   ]
  },
  {
   "cell_type": "code",
   "execution_count": 6,
   "id": "3766a945",
   "metadata": {},
   "outputs": [
    {
     "name": "stdout",
     "output_type": "stream",
     "text": [
      "Courses:\n",
      "New Media and Technologies for Social Change\n",
      "Example Class\n"
     ]
    }
   ],
   "source": [
    "\"\"\"\n",
    "Shows basic usage of the Classroom API.\n",
    "Prints the names of the first 10 courses the user has access to.\n",
    "\"\"\"\n",
    "creds = None\n",
    "# The file token.json stores the user's access and refresh tokens, and is\n",
    "# created automatically when the authorization flow completes for the first\n",
    "# time.\n",
    "if os.path.exists('token.json'):\n",
    "    creds = Credentials.from_authorized_user_file('token.json', SCOPES)\n",
    "# If there are no (valid) credentials available, let the user log in.\n",
    "if not creds or not creds.valid:\n",
    "    if creds and creds.expired and creds.refresh_token:\n",
    "        creds.refresh(Request())\n",
    "    else:\n",
    "        flow = InstalledAppFlow.from_client_secrets_file(\n",
    "            'credentials.json', SCOPES)\n",
    "        creds = flow.run_local_server(port=0)\n",
    "    # Save the credentials for the next run\n",
    "    with open('token.json', 'w') as token:\n",
    "        token.write(creds.to_json())\n",
    "\n",
    "try:\n",
    "    service = build('classroom', 'v1', credentials=creds)\n",
    "\n",
    "    # Call the Classroom API\n",
    "    results = service.courses().list(pageSize=10).execute()\n",
    "    courses = results.get('courses', [])\n",
    "\n",
    "    if not courses:\n",
    "        print('No courses found.')\n",
    "    # Prints the names of the first 10 courses.\n",
    "    else:\n",
    "        print('Courses:')\n",
    "        for course in courses:\n",
    "            print(course['name'])\n",
    "\n",
    "except HttpError as error:\n",
    "    print('An error occurred: %s' % error)"
   ]
  },
  {
   "cell_type": "code",
   "execution_count": null,
   "id": "53f0d066",
   "metadata": {},
   "outputs": [],
   "source": [
    "\"\"\"\n",
    "    Prints the name of the with specific course_id.\n",
    "    Load pre-authorized user credentials from the environment.\n",
    "    TODO(developer) - See https://developers.google.com/identity\n",
    "    for guides on implementing OAuth2 for the application.\n",
    "\"\"\"\n",
    "\n",
    "\n",
    "    course = None\n",
    "    try:\n",
    "        service = build('classroom', 'v1', credentials=creds)\n",
    "        course = service.courses().get(id=course_id).execute()\n",
    "        print(f\"Course found : {course.get('name')}\")\n",
    "    except HttpError as error:\n",
    "        print(f\"An error occurred: {error}\")\n",
    "        print(f\"Course not found: {course_id}\")\n",
    "        return error\n",
    "    return course\n",
    "\n",
    "\n",
    "if __name__ == '__main__':\n",
    "    # Put the course_id of course whose information needs to be fetched.\n",
    "    classroom_get_course('course_id')"
   ]
  },
  {
   "cell_type": "code",
   "execution_count": 11,
   "id": "cf41a007",
   "metadata": {},
   "outputs": [],
   "source": [
    "def classroom_list_courses():\n",
    "    \n",
    "    if os.path.exists('token.json'):\n",
    "        creds = Credentials.from_authorized_user_file('token.json', SCOPES)\n",
    "    # If there are no (valid) credentials available, let the user log in.\n",
    "    if not creds or not creds.valid:\n",
    "        if creds and creds.expired and creds.refresh_token:\n",
    "            creds.refresh(Request())\n",
    "        else:\n",
    "            flow = InstalledAppFlow.from_client_secrets_file(\n",
    "                'credentials.json', SCOPES)\n",
    "            creds = flow.run_local_server(port=0)\n",
    "        # Save the credentials for the next run\n",
    "        with open('token.json', 'w') as token:\n",
    "            token.write(creds.to_json())\n",
    "    \n",
    "    \n",
    "    try:\n",
    "        service = build('classroom', 'v1', credentials=creds)\n",
    "        courses = []\n",
    "        page_token = None\n",
    "\n",
    "        while True:\n",
    "            # pylint: disable=maybe-no-member\n",
    "            response = service.courses().list(pageToken=page_token,\n",
    "                                              pageSize=100).execute()\n",
    "            courses.extend(response.get('courses', []))\n",
    "            page_token = response.get('nextPageToken', None)\n",
    "            if not page_token:\n",
    "                break\n",
    "\n",
    "        if not courses:\n",
    "            print(\"No courses found.\")\n",
    "            return\n",
    "        print(\"Courses:\")\n",
    "        for course in courses:\n",
    "            print(f\"{course.get('name'), course.get('id')}\")\n",
    "        return courses\n",
    "    except HttpError as error:\n",
    "        print(f\"An error occurred: {error}\")\n",
    "        return error"
   ]
  },
  {
   "cell_type": "code",
   "execution_count": 12,
   "id": "78f21b58",
   "metadata": {
    "scrolled": true
   },
   "outputs": [
    {
     "name": "stdout",
     "output_type": "stream",
     "text": [
      "Courses available are-------\n",
      "Courses:\n",
      "('New Media and Technologies for Social Change', '541166635251')\n",
      "('Example Class', '569435746338')\n"
     ]
    },
    {
     "data": {
      "text/plain": [
       "[{'id': '541166635251',\n",
       "  'name': 'New Media and Technologies for Social Change',\n",
       "  'section': 'Period 1',\n",
       "  'descriptionHeading': 'New Media and Technologies for Social Change Period 1',\n",
       "  'room': '411',\n",
       "  'ownerId': '105900254649607976950',\n",
       "  'creationTime': '2023-01-09T18:31:29.359Z',\n",
       "  'updateTime': '2023-01-09T18:31:29.359Z',\n",
       "  'enrollmentCode': 'vyipmp3',\n",
       "  'courseState': 'ACTIVE',\n",
       "  'alternateLink': 'https://classroom.google.com/c/NTQxMTY2NjM1MjUx',\n",
       "  'teacherGroupEmail': 'New_Media_and_Technologies_for_Social_Change_Period_1_teachers_8b22b1ce@g.harvard.edu',\n",
       "  'courseGroupEmail': 'New_Media_and_Technologies_for_Social_Change_Period_1_d68fad57@g.harvard.edu',\n",
       "  'teacherFolder': {'id': '1Yo7_LjxbAmMfeD73rpV6xRvSQT5y0GdL74DiOnvnVB7LaMIMhICwhFyX8fYU0hJLyDU5fZoZ',\n",
       "   'title': 'New Media and Technologies for Social Change Period 1',\n",
       "   'alternateLink': 'https://drive.google.com/drive/folders/1Yo7_LjxbAmMfeD73rpV6xRvSQT5y0GdL74DiOnvnVB7LaMIMhICwhFyX8fYU0hJLyDU5fZoZ'},\n",
       "  'guardiansEnabled': False,\n",
       "  'calendarId': 'c_classroom4e872ff2@group.calendar.google.com',\n",
       "  'gradebookSettings': {'calculationType': 'TOTAL_POINTS',\n",
       "   'displaySetting': 'HIDE_OVERALL_GRADE'}},\n",
       " {'id': '569435746338',\n",
       "  'name': 'Example Class',\n",
       "  'descriptionHeading': 'Example Class',\n",
       "  'ownerId': '105900254649607976950',\n",
       "  'creationTime': '2022-11-10T11:55:06.968Z',\n",
       "  'updateTime': '2022-11-10T11:55:06.968Z',\n",
       "  'enrollmentCode': '6f24jau',\n",
       "  'courseState': 'ACTIVE',\n",
       "  'alternateLink': 'https://classroom.google.com/c/NTY5NDM1NzQ2MzM4',\n",
       "  'teacherGroupEmail': 'Example_Class_teachers_175cb216@g.harvard.edu',\n",
       "  'courseGroupEmail': 'Example_Class_6434c794@g.harvard.edu',\n",
       "  'teacherFolder': {'id': '1G8M2TTO12IXjHdIQ_skG_Suf4c_PIo-zkB7yLBV2wXtkWMg7SOgTTV-AuDHdq0378N2j-0xP',\n",
       "   'title': 'Example Class',\n",
       "   'alternateLink': 'https://drive.google.com/drive/folders/1G8M2TTO12IXjHdIQ_skG_Suf4c_PIo-zkB7yLBV2wXtkWMg7SOgTTV-AuDHdq0378N2j-0xP'},\n",
       "  'guardiansEnabled': False,\n",
       "  'calendarId': 'c_classroomd65a7475@group.calendar.google.com',\n",
       "  'gradebookSettings': {'calculationType': 'WEIGHTED_CATEGORIES',\n",
       "   'displaySetting': 'SHOW_TEACHERS_ONLY',\n",
       "   'gradeCategories': [{'id': '569435364689',\n",
       "     'name': 'Practice',\n",
       "     'weight': 200000,\n",
       "     'defaultGradeDenominator': 100},\n",
       "    {'id': '569435364690',\n",
       "     'name': 'Assessment',\n",
       "     'weight': 800000,\n",
       "     'defaultGradeDenominator': 100}]}}]"
      ]
     },
     "execution_count": 12,
     "metadata": {},
     "output_type": "execute_result"
    }
   ],
   "source": [
    "print('Courses available are-------')\n",
    "classroom_list_courses()"
   ]
  }
 ],
 "metadata": {
  "kernelspec": {
   "display_name": "Python 3 (ipykernel)",
   "language": "python",
   "name": "python3"
  },
  "language_info": {
   "codemirror_mode": {
    "name": "ipython",
    "version": 3
   },
   "file_extension": ".py",
   "mimetype": "text/x-python",
   "name": "python",
   "nbconvert_exporter": "python",
   "pygments_lexer": "ipython3",
   "version": "3.9.12"
  }
 },
 "nbformat": 4,
 "nbformat_minor": 5
}
